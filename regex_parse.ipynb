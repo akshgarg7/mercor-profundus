{
 "cells": [
  {
   "cell_type": "code",
   "execution_count": 1,
   "metadata": {},
   "outputs": [],
   "source": [
    "import re"
   ]
  },
  {
   "cell_type": "code",
   "execution_count": 5,
   "metadata": {},
   "outputs": [
    {
     "data": {
      "text/plain": [
       "'\\n```\\n   let is_empty = function\\n     | Empty -> true\\n     | _ -> false\\n```'"
      ]
     },
     "execution_count": 5,
     "metadata": {},
     "output_type": "execute_result"
    }
   ],
   "source": [
    "input_text = \"\"\"\n",
    "```ocaml\n",
    "   let is_empty = function\n",
    "     | Empty -> true\n",
    "     | _ -> false\n",
    "```\"\"\"\n",
    "pattern = re.compile(r'```(\\w+)\\n(.*?)\\n```', re.DOTALL)\n",
    "def replace_code_block(match):\n",
    "    code = match.group(2)\n",
    "    return f'```\\n{code}\\n```'\n",
    "result = pattern.sub(replace_code_block, input_text)\n",
    "result"
   ]
  }
 ],
 "metadata": {
  "kernelspec": {
   "display_name": "Python 3",
   "language": "python",
   "name": "python3"
  },
  "language_info": {
   "codemirror_mode": {
    "name": "ipython",
    "version": 3
   },
   "file_extension": ".py",
   "mimetype": "text/x-python",
   "name": "python",
   "nbconvert_exporter": "python",
   "pygments_lexer": "ipython3",
   "version": "3.7.11"
  }
 },
 "nbformat": 4,
 "nbformat_minor": 2
}
